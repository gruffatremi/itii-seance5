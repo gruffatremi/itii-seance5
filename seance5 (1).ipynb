{
  "nbformat": 4,
  "nbformat_minor": 0,
  "metadata": {
    "kernelspec": {
      "display_name": "Python 3",
      "language": "python",
      "name": "python3"
    },
    "language_info": {
      "codemirror_mode": {
        "name": "ipython",
        "version": 3
      },
      "file_extension": ".py",
      "mimetype": "text/x-python",
      "name": "python",
      "nbconvert_exporter": "python",
      "pygments_lexer": "ipython3",
      "version": "3.7.6"
    },
    "colab": {
      "name": "seance5.ipynb",
      "provenance": []
    }
  },
  "cells": [
    {
      "cell_type": "markdown",
      "metadata": {
        "id": "aVtzVgvXA4N0"
      },
      "source": [
        "Ex1:\n",
        "    \n",
        "1. Ecrire une fonction qui prend en entrée une fonction f et des réels a et h et donne en sortie le taux de variation (ou d'accroissement) de la fonction f entre le point d'abscisse a+h et a.\n",
        "2. Tester avec f(x)=3x^3+1x^2-5"
      ]
    },
    {
      "cell_type": "code",
      "metadata": {
        "id": "oL3k3zhMA4N1",
        "outputId": "8bfe9221-272f-408c-a562-5b4348891503",
        "colab": {
          "base_uri": "https://localhost:8080/"
        }
      },
      "source": [
        "\n",
        "import numpy\n",
        "def tauxvariation(fn,a,h): \n",
        "  taux = (fn(a+h)-fn(a))/h\n",
        "  return taux\n",
        "\n",
        "def fn(x):\n",
        "  return 3*pow(x,3)+1*pow(x,2)-5\n",
        "\n",
        "print(tauxvariation(fn,5,0.01))\n"
      ],
      "execution_count": 36,
      "outputs": [
        {
          "output_type": "stream",
          "text": [
            "235.46029999999973\n"
          ],
          "name": "stdout"
        }
      ]
    },
    {
      "cell_type": "markdown",
      "metadata": {
        "id": "6mGJHtaRA4N5"
      },
      "source": [
        "Ex2:\n",
        "1. Ecrire une fonction qui calcule la liste des coefficients directeurs pour une fonction f définit sur I=[a;b] avec un pas \"p\"\n",
        "2. Tester avec f(x)=(1+x)/(x-4) définit sur I=[0,1] avec un pas de 0.01"
      ]
    },
    {
      "cell_type": "code",
      "metadata": {
        "id": "g_C-4pY0A4N5",
        "outputId": "19cd4948-6861-4c50-acd2-d5425ef81244",
        "colab": {
          "base_uri": "https://localhost:8080/"
        }
      },
      "source": [
        "import numpy\n",
        "def coefficient(fn,a,b,p,h):\n",
        "    return tauxvariation(fn,numpy.arange(a,b,p),h)\n",
        "\n",
        "\n",
        "def fn2(x):\n",
        "  return (1+x)/(x-4)\n",
        "\n",
        "print(coefficient(fn2,0,1,0.01,0.001))\n"
      ],
      "execution_count": 22,
      "outputs": [
        {
          "output_type": "stream",
          "text": [
            "[-0.31257814 -0.31414711 -0.31572792 -0.3173207  -0.31892555 -0.32054261\n",
            " -0.32217201 -0.32381385 -0.32546828 -0.32713543 -0.32881541 -0.33050837\n",
            " -0.33221444 -0.33393375 -0.33566644 -0.33741265 -0.33917253 -0.34094621\n",
            " -0.34273384 -0.34453556 -0.34635153 -0.3481819  -0.35002681 -0.35188643\n",
            " -0.3537609  -0.3556504  -0.35755507 -0.35947508 -0.3614106  -0.36336179\n",
            " -0.36532883 -0.36731189 -0.36931113 -0.37132674 -0.3733589  -0.37540779\n",
            " -0.37747358 -0.37955648 -0.38165666 -0.38377433 -0.38590967 -0.38806288\n",
            " -0.39023416 -0.39242371 -0.39463175 -0.39685847 -0.39910409 -0.40136883\n",
            " -0.4036529  -0.40595652 -0.40827992 -0.41062332 -0.41298695 -0.41537106\n",
            " -0.41777586 -0.42020161 -0.42264855 -0.42511693 -0.42760699 -0.430119\n",
            " -0.4326532  -0.43520987 -0.43778927 -0.44039167 -0.44301734 -0.44566656\n",
            " -0.44833962 -0.4510368  -0.45375839 -0.45650469 -0.459276   -0.46207262\n",
            " -0.46489486 -0.46774304 -0.47061747 -0.47351848 -0.4764464  -0.47940155\n",
            " -0.48238429 -0.48539495 -0.48843389 -0.49150145 -0.494598   -0.49772391\n",
            " -0.50087954 -0.50406529 -0.50728152 -0.51052863 -0.51380702 -0.51711709\n",
            " -0.52045925 -0.52383392 -0.52724151 -0.53068247 -0.53415722 -0.53766621\n",
            " -0.54120989 -0.54478871 -0.54840316 -0.55205369]\n"
          ],
          "name": "stdout"
        }
      ]
    },
    {
      "cell_type": "markdown",
      "metadata": {
        "id": "aBEpAYewA4N8"
      },
      "source": [
        "Ex3:\n",
        "on considère une suite U définie par Un+1=Un+n+1 et de premier terme U0. Ecrire une fonction qui prend en entrée les valeurs de n et U0 et affiche la valeur de Un.\n",
        "1. De facon iterative\n",
        "2. Par recurence"
      ]
    },
    {
      "cell_type": "code",
      "metadata": {
        "id": "xDR1dWFrA4N9",
        "outputId": "b28ecf41-73f8-4619-c91d-170583815b1c",
        "colab": {
          "base_uri": "https://localhost:8080/"
        }
      },
      "source": [
        "def suite(U0,n):\n",
        "  for i in range(n):\n",
        "    U0=U0+i+1\n",
        "  return U0\n",
        "\n",
        " \n",
        "def recursive(u0,n):\n",
        "  if n < 0:\n",
        "      result = 0\n",
        "      return result \n",
        "  else:\n",
        "\n",
        "    show = recursive(u0,n-1) + n + 1\n",
        "    print(show)\n",
        "    return show\n",
        "\n",
        "\n",
        "def rec(u, n):\n",
        " \n",
        "  if n == 0:\n",
        "    return u\n",
        "  else:\n",
        "    show = rec(u,n-1) + (n-1) + 1\n",
        "    print(\"la valeur de \" , rec(u,n-1) , \"+\" , n-1 , \" + 1 = \" , show )\n",
        "    return show\n",
        "print(suite(1,2))\n",
        "print(rec(1,2))"
      ],
      "execution_count": 208,
      "outputs": [
        {
          "output_type": "stream",
          "text": [
            "4\n",
            "la valeur de  1 + 0  + 1 =  2\n",
            "la valeur de  1 + 0  + 1 =  2\n",
            "la valeur de  2 + 1  + 1 =  4\n",
            "4\n"
          ],
          "name": "stdout"
        }
      ]
    },
    {
      "cell_type": "markdown",
      "metadata": {
        "id": "U-aETGzvA4N_"
      },
      "source": [
        "Ex4:\n",
        "On pose Tn=n^2−(n−1)^2 ainsi que Sn=T1+T2+T3+...+Tn.\n",
        "1. Etant donné n, afficher la valeur de Sn."
      ]
    },
    {
      "cell_type": "code",
      "metadata": {
        "id": "n9IZYh_zA4OA",
        "outputId": "05d185d0-09b3-4387-cbf9-8b7ca83c88a5",
        "colab": {
          "base_uri": "https://localhost:8080/"
        }
      },
      "source": [
        "def sum(n):\n",
        "  somme = 0\n",
        "  for i in range(n):\n",
        "\n",
        "    somme = somme + T(i)  \n",
        "    print(somme)\n",
        "def T(n):\n",
        "  return pow(n,2)-pow((n-1),2)\n",
        "\n",
        "sum(5)"
      ],
      "execution_count": 54,
      "outputs": [
        {
          "output_type": "stream",
          "text": [
            "-1\n",
            "0\n",
            "3\n",
            "8\n",
            "15\n"
          ],
          "name": "stdout"
        }
      ]
    },
    {
      "cell_type": "markdown",
      "metadata": {
        "id": "Ech22YEuA4OC"
      },
      "source": [
        "Ex5:\n",
        "Soit la suite définie par Un+1=0.5.Un et de premier terme U0. Plus la valeur de n augmente, plus les valeurs de Un se rapprochent de 0.\n",
        "\n",
        "Ecrire une fonction qui permet de déterminer pour un réel positif e donné, quel est le plus petit entier n tel que la valeur de Un soit inférieure à e.\n"
      ]
    },
    {
      "cell_type": "code",
      "metadata": {
        "id": "4yY-92zzA4OD",
        "outputId": "946c4767-671a-427b-b30f-8e10b74dbb7b",
        "colab": {
          "base_uri": "https://localhost:8080/"
        }
      },
      "source": [
        "\n",
        "def determination(e,U0):\n",
        "  n=0\n",
        "  un=U0\n",
        "  b=1\n",
        "  while ( b == 1 ):\n",
        "    print(\"U\"+str(n)+\" = \"+str(un))\n",
        "    if (un< e):\n",
        "      b = 0\n",
        "    else:\n",
        "      n+=1\n",
        "      un = UN(un)\n",
        "  return n      \n",
        "\n",
        "def UN(un):\n",
        "  return 0.5*un\n",
        "determination(5,5)\n",
        "\n"
      ],
      "execution_count": 2,
      "outputs": [
        {
          "output_type": "stream",
          "text": [
            "U0 = 5\n",
            "U1 = 2.5\n"
          ],
          "name": "stdout"
        },
        {
          "output_type": "execute_result",
          "data": {
            "text/plain": [
              "1"
            ]
          },
          "metadata": {
            "tags": []
          },
          "execution_count": 2
        }
      ]
    },
    {
      "cell_type": "markdown",
      "metadata": {
        "id": "UkHsGUN1A4OG"
      },
      "source": [
        "Ex6: Constante K de Catalan : https://fr.wikipedia.org/wiki/Constante_de_Catalan\n",
        "Ecrire une fonction qui permet de retourner une valeur approchée de la constante K et en s’arrêtant dès que la valeur absolue de la différence entre deux somme successives devienne inférieure ou égale à une erreur epsilon donnée en paramètre.\n",
        "\n"
      ]
    },
    {
      "cell_type": "code",
      "metadata": {
        "id": "ngvh5VfJA4OG",
        "outputId": "91acc857-c101-4607-f979-d7b5e753cb5c",
        "colab": {
          "base_uri": "https://localhost:8080/"
        }
      },
      "source": [
        "def const_cata(eps):\n",
        "  k1=1\n",
        "  k2=k1-1/(pow(3,2))\n",
        "  signe=1\n",
        "  val=5\n",
        "  while abs(k2-k1) > eps:\n",
        "    k1=k2\n",
        "    k2=k1+signe*(1/(pow(val,2)))\n",
        "    val+=2\n",
        "    signe*=(-1)\n",
        "  return k2\n",
        "\n",
        "const_cata(0.0000000001)\n",
        "\n",
        "\n"
      ],
      "execution_count": 7,
      "outputs": [
        {
          "output_type": "execute_result",
          "data": {
            "text/plain": [
              "0.9159655942272132"
            ]
          },
          "metadata": {
            "tags": []
          },
          "execution_count": 7
        }
      ]
    },
    {
      "cell_type": "markdown",
      "metadata": {
        "id": "e_Fx3x3_A4OK"
      },
      "source": [
        "Ex 7:\n",
        "Ecrivez une fonction permettant de calculer la limite à epsilon près de la suite définie par la relation de récurrence :\n",
        "\n",
        "U0 =2\n",
        "Un+1= Un + 2/Un  , n>0.\n",
        "\n",
        "On arrête d’itérer quand l’intervalle entre 2 termes consécutifs devient strictement inférieur à epsilon."
      ]
    },
    {
      "cell_type": "code",
      "metadata": {
        "id": "iJxDfzmLcOhS",
        "outputId": "6ba54f01-74e2-4a97-8454-aef7cf7ebd3d",
        "colab": {
          "base_uri": "https://localhost:8080/"
        }
      },
      "source": [
        "def limite(eps):\n",
        "  U0= 2\n",
        "  Un=U0 + 2/U0\n",
        "  \n",
        "  while abs(Un-U0) > eps:\n",
        "    U0=Un\n",
        "    \n",
        "    Un=U0 + 2/U0\n",
        "  return Un\n",
        "\n",
        "print(limite(0.0001))"
      ],
      "execution_count": 30,
      "outputs": [
        {
          "output_type": "stream",
          "text": [
            "20000.000268301646\n"
          ],
          "name": "stdout"
        }
      ]
    },
    {
      "cell_type": "code",
      "metadata": {
        "id": "fu5GiZZicOee"
      },
      "source": [
        ""
      ],
      "execution_count": null,
      "outputs": []
    }
  ]
}